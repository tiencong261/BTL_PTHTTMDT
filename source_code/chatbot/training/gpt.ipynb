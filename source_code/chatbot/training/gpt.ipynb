{
 "cells": [
  {
   "cell_type": "markdown",
   "id": "5f6b0521-2b32-4539-9c4c-4a864596e707",
   "metadata": {},
   "source": [
    "## **1. Import Libraries**"
   ]
  },
  {
   "cell_type": "code",
   "execution_count": 3,
   "id": "c5b4e983-f11c-4c58-b547-bb6561fc1a3d",
   "metadata": {},
   "outputs": [],
   "source": [
    "import torch\n",
    "import torch.nn as nn\n",
    "import torch.optim as optim\n",
    "from torch.utils.data import Dataset, DataLoader\n",
    "from transformers import BertTokenizer, BertModel\n",
    "import pandas as pd\n",
    "from sklearn.preprocessing import LabelEncoder\n",
    "from sklearn.model_selection import train_test_split\n",
    "import pickle"
   ]
  },
  {
   "cell_type": "markdown",
   "id": "1c2e0b3c-9189-4a0d-9ef1-12a26ff07e88",
   "metadata": {},
   "source": [
    "## **2. Load Dataset**"
   ]
  },
  {
   "cell_type": "code",
   "execution_count": null,
   "id": "22a3ab66-c510-4196-a74f-43e376956659",
   "metadata": {},
   "outputs": [
    {
     "data": {
      "text/html": [
       "<div>\n",
       "<style scoped>\n",
       "    .dataframe tbody tr th:only-of-type {\n",
       "        vertical-align: middle;\n",
       "    }\n",
       "\n",
       "    .dataframe tbody tr th {\n",
       "        vertical-align: top;\n",
       "    }\n",
       "\n",
       "    .dataframe thead th {\n",
       "        text-align: right;\n",
       "    }\n",
       "</style>\n",
       "<table border=\"1\" class=\"dataframe\">\n",
       "  <thead>\n",
       "    <tr style=\"text-align: right;\">\n",
       "      <th></th>\n",
       "      <th>text</th>\n",
       "      <th>label</th>\n",
       "    </tr>\n",
       "  </thead>\n",
       "  <tbody>\n",
       "    <tr>\n",
       "      <th>621</th>\n",
       "      <td>áo thun nam GAP trắng xanh giá bao nhiêu</td>\n",
       "      <td>product</td>\n",
       "    </tr>\n",
       "    <tr>\n",
       "      <th>1427</th>\n",
       "      <td>bạn like chơi bóng đá hay bóng rổ</td>\n",
       "      <td>else</td>\n",
       "    </tr>\n",
       "    <tr>\n",
       "      <th>188</th>\n",
       "      <td>Quần âu nam có màu xám không</td>\n",
       "      <td>product</td>\n",
       "    </tr>\n",
       "    <tr>\n",
       "      <th>307</th>\n",
       "      <td>Đổi hàng có cần chụp ảnh hóa đơn không</td>\n",
       "      <td>terms</td>\n",
       "    </tr>\n",
       "    <tr>\n",
       "      <th>964</th>\n",
       "      <td>áo thun nữ cổ tròn cotton đen còn hok</td>\n",
       "      <td>product</td>\n",
       "    </tr>\n",
       "    <tr>\n",
       "      <th>530</th>\n",
       "      <td>tôi muốn mua áo thun bé trai xanh size s</td>\n",
       "      <td>product</td>\n",
       "    </tr>\n",
       "    <tr>\n",
       "      <th>251</th>\n",
       "      <td>Hôm nay weather đẹp không bạn</td>\n",
       "      <td>else</td>\n",
       "    </tr>\n",
       "    <tr>\n",
       "      <th>240</th>\n",
       "      <td>bạn có biết nấu phở ngon không</td>\n",
       "      <td>else</td>\n",
       "    </tr>\n",
       "    <tr>\n",
       "      <th>780</th>\n",
       "      <td>bạn có thích đi bộ không</td>\n",
       "      <td>else</td>\n",
       "    </tr>\n",
       "    <tr>\n",
       "      <th>478</th>\n",
       "      <td>bạn biết cách làm đồ handmade không</td>\n",
       "      <td>else</td>\n",
       "    </tr>\n",
       "  </tbody>\n",
       "</table>\n",
       "</div>"
      ],
      "text/plain": [
       "                                          text    label\n",
       "621   áo thun nam GAP trắng xanh giá bao nhiêu  product\n",
       "1427         bạn like chơi bóng đá hay bóng rổ     else\n",
       "188               Quần âu nam có màu xám không  product\n",
       "307     Đổi hàng có cần chụp ảnh hóa đơn không    terms\n",
       "964      áo thun nữ cổ tròn cotton đen còn hok  product\n",
       "530   tôi muốn mua áo thun bé trai xanh size s  product\n",
       "251              Hôm nay weather đẹp không bạn     else\n",
       "240             bạn có biết nấu phở ngon không     else\n",
       "780                   bạn có thích đi bộ không     else\n",
       "478        bạn biết cách làm đồ handmade không     else"
      ]
     },
     "execution_count": 5,
     "metadata": {},
     "output_type": "execute_result"
    }
   ],
   "source": [
    "data_path = \"data/shuffled_dataset.csv\"\n",
    "df = pd.read_csv(data_path).sample(frac=1, random_state=42)  # Shuffle dataset\n",
    "df.head(10)"
   ]
  },
  {
   "cell_type": "markdown",
   "id": "b8330241-738e-4034-9b68-f65dfff7db31",
   "metadata": {},
   "source": [
    "## **3. Preprocess Data**"
   ]
  },
  {
   "cell_type": "code",
   "execution_count": 7,
   "id": "7b48069e-47ef-4294-b4cf-a103a7347a5d",
   "metadata": {},
   "outputs": [],
   "source": [
    "labels = [\"product\", \"terms\", \"store_info\", \"else\"]\n",
    "label_encoder = LabelEncoder()\n",
    "df[\"label\"] = label_encoder.fit_transform(df[\"label\"])\n",
    "\n",
    "train_texts, val_texts, train_labels, val_labels = train_test_split(\n",
    "    df[\"text\"].tolist(), df[\"label\"].tolist(), test_size=0.25, random_state=42 \n",
    ")"
   ]
  },
  {
   "cell_type": "markdown",
   "id": "b2fbff2c-b4a4-48bf-9566-a6d18e728236",
   "metadata": {},
   "source": [
    "## **4. Tokenization**"
   ]
  },
  {
   "cell_type": "code",
   "execution_count": 9,
   "id": "935dc62f-c601-4fdb-9105-f75331243911",
   "metadata": {},
   "outputs": [],
   "source": [
    "MODEL_NAME = \"bert-base-uncased\"\n",
    "tokenizer = BertTokenizer.from_pretrained(MODEL_NAME)\n",
    "\n",
    "def tokenize_texts(texts):\n",
    "    tokens = tokenizer(texts, padding=True, truncation=True, max_length=128, return_tensors=\"pt\")\n",
    "    del tokens[\"token_type_ids\"]  # Bỏ `token_type_ids` để tránh lỗi\n",
    "    return tokens\n"
   ]
  },
  {
   "cell_type": "markdown",
   "id": "11d28544-f342-4123-8850-ce048775cf24",
   "metadata": {},
   "source": [
    "## **5. Create Dataset Class**"
   ]
  },
  {
   "cell_type": "code",
   "execution_count": 11,
   "id": "003b639d-9d1e-4967-82c0-dd920b45230c",
   "metadata": {},
   "outputs": [],
   "source": [
    "class IntentDataset(Dataset):\n",
    "    def __init__(self, texts, labels):\n",
    "        self.encodings = tokenize_texts(texts)\n",
    "        self.labels = torch.tensor(labels)\n",
    "    \n",
    "    def __len__(self):\n",
    "        return len(self.labels)\n",
    "    \n",
    "    def __getitem__(self, idx):\n",
    "        return {key: val[idx] for key, val in self.encodings.items()}, self.labels[idx]\n",
    "\n",
    "train_dataset = IntentDataset(train_texts, train_labels)\n",
    "val_dataset = IntentDataset(val_texts, val_labels)\n",
    "train_loader = DataLoader(train_dataset, batch_size=16, shuffle=True)\n",
    "val_loader = DataLoader(val_dataset, batch_size=16, shuffle=False)"
   ]
  },
  {
   "cell_type": "markdown",
   "id": "1e1f3be4-fa7a-40a2-9d3e-eea724b36d21",
   "metadata": {},
   "source": [
    "## **6. Build Transformer Model with MHA**"
   ]
  },
  {
   "cell_type": "code",
   "execution_count": 13,
   "id": "f4048e3b-4a9c-4eb2-b48f-fdc9363c8e12",
   "metadata": {},
   "outputs": [],
   "source": [
    "class TransformerClassifier(nn.Module):\n",
    "    def __init__(self, num_classes):\n",
    "        super(TransformerClassifier, self).__init__()\n",
    "        self.bert = BertModel.from_pretrained(MODEL_NAME)\n",
    "        self.attention = nn.MultiheadAttention(embed_dim=768, num_heads=8)\n",
    "        self.fc = nn.Linear(768, num_classes)\n",
    "        self.dropout = nn.Dropout(0.3)\n",
    "    \n",
    "    def forward(self, input_ids, attention_mask):\n",
    "        outputs = self.bert(input_ids=input_ids, attention_mask=attention_mask)\n",
    "        cls_embedding = outputs.last_hidden_state[:, 0, :].unsqueeze(0)\n",
    "        attn_output, _ = self.attention(cls_embedding, cls_embedding, cls_embedding)\n",
    "        output = self.fc(self.dropout(attn_output.squeeze(0)))\n",
    "        return output"
   ]
  },
  {
   "cell_type": "markdown",
   "id": "d404adbd-9e3a-4e99-9cca-12de675347be",
   "metadata": {},
   "source": [
    "## **7. Training Setup**"
   ]
  },
  {
   "cell_type": "code",
   "execution_count": 15,
   "id": "e943e878-bc00-4166-b61a-1f147d89a338",
   "metadata": {},
   "outputs": [],
   "source": [
    "device = torch.device(\"cuda\" if torch.cuda.is_available() else \"cpu\")\n",
    "num_classes = len(labels)\n",
    "model = TransformerClassifier(num_classes).to(device)\n",
    "criterion = nn.CrossEntropyLoss()\n",
    "optimizer = optim.AdamW(model.parameters(), lr=3e-4)"
   ]
  },
  {
   "cell_type": "markdown",
   "id": "0902e265-3e5f-4b61-926e-c6942da9e652",
   "metadata": {},
   "source": [
    "## **8. Training Loop**"
   ]
  },
  {
   "cell_type": "code",
   "execution_count": 17,
   "id": "4b9de638-f813-4b03-b1dc-a9f66b3a7ddf",
   "metadata": {},
   "outputs": [],
   "source": [
    "def train_model(model, train_loader, val_loader, epochs=5):\n",
    "    model.train()\n",
    "    for epoch in range(epochs):\n",
    "        total_loss, total_acc = 0, 0\n",
    "        for batch, labels in train_loader:\n",
    "            batch = {key: val.to(device) for key, val in batch.items()}\n",
    "            labels = labels.to(device)\n",
    "            optimizer.zero_grad()\n",
    "            batch.pop(\"token_type_ids\", None)  # Loại bỏ token_type_ids nếu có\n",
    "            outputs = model(**batch)\n",
    "            loss = criterion(outputs, labels)\n",
    "            loss.backward()\n",
    "            optimizer.step()\n",
    "            total_loss += loss.item()\n",
    "            total_acc += (outputs.argmax(dim=1) == labels).sum().item()\n",
    "        print(f\"Epoch {epoch+1}: Loss {total_loss / len(train_loader):.4f}, Acc {total_acc / len(train_loader.dataset):.4f}\")"
   ]
  },
  {
   "cell_type": "markdown",
   "id": "0dfec6ce-d622-4bdb-ae1b-86cf8790f9bf",
   "metadata": {},
   "source": [
    "## **9. Train Model**"
   ]
  },
  {
   "cell_type": "code",
   "execution_count": 19,
   "id": "39a4841b-9b76-44c9-a5ea-98f4c323dc2e",
   "metadata": {},
   "outputs": [],
   "source": [
    "def save_model(model, filename=\"model.pkl\"):\n",
    "    print(\"Saving model\")\n",
    "    with open(filename, \"wb\") as f:\n",
    "        pickle.dump(model, f)\n",
    "\n",
    "def load_model(filename=\"model.pkl\"):\n",
    "    print(\"Loading model\")\n",
    "    with open(filename, \"rb\") as f:\n",
    "        return pickle.load(f)"
   ]
  },
  {
   "cell_type": "code",
   "execution_count": null,
   "id": "611a6e6f-6968-45b6-8472-9a4ab48d66ae",
   "metadata": {},
   "outputs": [
    {
     "name": "stdout",
     "output_type": "stream",
     "text": [
      "Epoch 1: Loss 1.3895, Acc 0.3426\n",
      "Epoch 2: Loss 1.3598, Acc 0.3649\n",
      "Epoch 3: Loss 1.3637, Acc 0.3432\n",
      "Epoch 4: Loss 1.3594, Acc 0.3575\n",
      "Epoch 5: Loss 1.3491, Acc 0.3587\n",
      "Epoch 6: Loss 1.3586, Acc 0.3605\n",
      "Epoch 7: Loss 1.3535, Acc 0.3618\n",
      "Epoch 8: Loss 1.3542, Acc 0.3723\n",
      "Epoch 9: Loss 1.3509, Acc 0.3556\n",
      "Epoch 10: Loss 1.3538, Acc 0.3612\n",
      "Epoch 11: Loss 1.3475, Acc 0.3655\n",
      "Epoch 12: Loss 1.3491, Acc 0.3686\n"
     ]
    }
   ],
   "source": [
    "#model = load_model()\n",
    "train_model(model, train_loader, val_loader, epochs=100)\n",
    "save_model(model)"
   ]
  },
  {
   "cell_type": "code",
   "execution_count": null,
   "id": "fc87a199-58cf-4b9d-8ce9-6876500229d6",
   "metadata": {},
   "outputs": [],
   "source": [
    "def predict(text, model):\n",
    "    model.eval()\n",
    "    inputs = tokenize_texts([text])\n",
    "    inputs = {key: val.to(device) for key, val in inputs.items()}\n",
    "    with torch.no_grad():\n",
    "        outputs = model(**inputs)\n",
    "        predicted_label = torch.argmax(outputs, dim=1).item()\n",
    "    return label_encoder.inverse_transform([predicted_label])[0]\n",
    "\n",
    "# Load model and test prediction\n",
    "model = load_model()\n",
    "print(predict(\"tôi muốn mua quần\", model))"
   ]
  }
 ],
 "metadata": {
  "kernelspec": {
   "display_name": "cuda-gpt",
   "language": "python",
   "name": "cuda"
  },
  "language_info": {
   "codemirror_mode": {
    "name": "ipython",
    "version": 3
   },
   "file_extension": ".py",
   "mimetype": "text/x-python",
   "name": "python",
   "nbconvert_exporter": "python",
   "pygments_lexer": "ipython3",
   "version": "3.12.7"
  }
 },
 "nbformat": 4,
 "nbformat_minor": 5
}
